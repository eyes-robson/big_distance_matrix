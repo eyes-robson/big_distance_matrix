{
 "cells": [
  {
   "cell_type": "code",
   "execution_count": 24,
   "metadata": {
    "scrolled": false
   },
   "outputs": [],
   "source": [
    "import numpy as np\n",
    "import pickle as pkl\n",
    "import os\n",
    "import itertools as it\n",
    "import functools as ft\n",
    "import multiprocessing as mp\n",
    "import time\n",
    "import sys\n",
    "import gc\n",
    "\n",
    "path_to_data = 'pickle_files/'\n",
    "\n",
    "motifs_reference = list(map(str, np.genfromtxt('./motifsSimple.csv', dtype=np.str_)))\n",
    "motifs_id_dict = {x:y for y,x in enumerate(motifs_reference)}                        \n",
    "\n",
    "n = len(motifs_reference)\n",
    "\n",
    "def coord_helper(name):\n",
    "    global n\n",
    "    global motifs_id_dict\n",
    "\n",
    "    l,r = name.split('|')\n",
    "    l = motifs_id_dict[l]\n",
    "    r = motifs_id_dict[r]\n",
    "    return l*n+r"
   ]
  },
  {
   "cell_type": "code",
   "execution_count": 16,
   "metadata": {
    "collapsed": true
   },
   "outputs": [
    {
     "name": "stdout",
     "output_type": "stream",
     "text": [
      "combining_names_0\n",
      "combining_names_8\n",
      "combining_names_16\n",
      "combining_names_24\n",
      "combining_names_32\n",
      "combining_names_40\n",
      "combining_names_48\n",
      "combining_names_56\n",
      "combining_names_12\n",
      "combining_names_36\n",
      "combining_names_28\n",
      "combining_names_44\n",
      "combining_names_20\n",
      "combining_names_52\n",
      "combining_names_4\n",
      "combining_names_60\n",
      "writing_collated_names_8\n",
      "writing_collated_names_0\n",
      "writing_collated_names_12\n",
      "writing_collated_names_16\n",
      "writing_collated_names_20\n",
      "writing_collated_names_24\n",
      "writing_collated_names_4\n",
      "writing_collated_names_28\n",
      "combining_mat_16\n",
      "combining_mat_0\n",
      "combining_mat_20\n",
      "combining_mat_24\n",
      "combining_mat_4\n",
      "combining_mat_32\n",
      "combining_mat_40\n",
      "combining_mat_28\n",
      "combining_mat_36\n",
      "combining_mat_44\n",
      "combining_mat_48\n",
      "combining_mat_8\n",
      "writing_collated_dat_8\n",
      "combining_mat_52\n",
      "writing_collated_dat_0\n",
      "combining_mat_12\n",
      "writing_collated_dat_12\n",
      "writing_collated_dat_16\n",
      "writing_collated_dat_20\n",
      "combining_mat_56\n",
      "writing_collated_dat_24\n",
      "writing_collated_dat_4\n",
      "combining_mat_60\n",
      "writing_collated_dat_28\n",
      "combining_names_17\n",
      "combining_names_1\n",
      "combining_names_25\n",
      "combining_names_33\n",
      "combining_names_41\n",
      "combining_names_49\n",
      "combining_names_9\n",
      "combining_names_21\n",
      "combining_names_5\n",
      "combining_names_29\n",
      "combining_names_37\n",
      "combining_names_45\n",
      "combining_names_57\n",
      "combining_names_53\n",
      "combining_names_13\n",
      "combining_names_61\n",
      "writing_collated_names_1\n",
      "writing_collated_names_9\n",
      "writing_collated_names_13\n",
      "writing_collated_names_17\n",
      "writing_collated_names_21\n",
      "writing_collated_names_5\n",
      "writing_collated_names_25\n",
      "writing_collated_names_29\n",
      "combining_mat_1\n",
      "combining_mat_17\n",
      "combining_mat_5\n",
      "combining_mat_21\n",
      "combining_mat_25\n",
      "writing_collated_dat_1\n",
      "combining_mat_29\n",
      "combining_mat_33\n",
      "writing_collated_dat_9\n",
      "combining_mat_41\n",
      "combining_mat_37\n",
      "combining_mat_45\n",
      "combining_mat_9\n",
      "combining_mat_49\n",
      "writing_collated_dat_13\n",
      "combining_mat_13\n",
      "combining_mat_53\n",
      "writing_collated_dat_17\n",
      "writing_collated_dat_21\n",
      "combining_mat_57\n",
      "combining_mat_61\n",
      "writing_collated_dat_5\n",
      "writing_collated_dat_25\n",
      "writing_collated_dat_29\n",
      "combining_names_2\n",
      "combining_names_18\n",
      "combining_names_26\n",
      "combining_names_6\n",
      "combining_names_22\n",
      "combining_names_34\n",
      "combining_names_42\n",
      "combining_names_10\n",
      "combining_names_50\n",
      "combining_names_30\n",
      "combining_names_38\n",
      "combining_names_46\n",
      "combining_names_58\n",
      "combining_names_14\n",
      "combining_names_54\n",
      "combining_names_62\n",
      "writing_collated_names_2\n",
      "writing_collated_names_10\n",
      "writing_collated_names_14\n",
      "writing_collated_names_18\n",
      "writing_collated_names_6\n",
      "writing_collated_names_22\n",
      "writing_collated_names_26\n",
      "writing_collated_names_30\n",
      "combining_mat_2\n",
      "combining_mat_18\n",
      "combining_mat_6\n",
      "combining_mat_22\n",
      "writing_collated_dat_2\n",
      "writing_collated_dat_10\n",
      "combining_mat_26\n",
      "combining_mat_30\n",
      "combining_mat_34\n",
      "combining_mat_10\n",
      "combining_mat_42\n",
      "combining_mat_38\n",
      "combining_mat_14\n",
      "combining_mat_46\n",
      "writing_collated_dat_14\n",
      "combining_mat_50\n",
      "combining_mat_54\n",
      "writing_collated_dat_18\n",
      "writing_collated_dat_6\n",
      "writing_collated_dat_22\n",
      "combining_mat_58\n",
      "combining_mat_62\n",
      "writing_collated_dat_26\n",
      "combining_names_3\n",
      "writing_collated_dat_30\n",
      "combining_names_19\n",
      "combining_names_7\n",
      "combining_names_23\n",
      "combining_names_27\n",
      "combining_names_35\n",
      "combining_names_11\n",
      "combining_names_43\n",
      "combining_names_31\n",
      "combining_names_51\n",
      "combining_names_39\n",
      "combining_names_47\n",
      "combining_names_15\n",
      "combining_names_59\n",
      "combining_names_55\n",
      "combining_names_63\n",
      "writing_collated_names_3\n",
      "writing_collated_names_11\n",
      "writing_collated_names_15\n",
      "writing_collated_names_19\n",
      "writing_collated_names_7\n",
      "writing_collated_names_23\n",
      "writing_collated_names_27\n",
      "writing_collated_names_31\n",
      "combining_mat_3\n",
      "combining_mat_7\n",
      "combining_mat_19\n",
      "combining_mat_23\n",
      "writing_collated_dat_3\n",
      "writing_collated_dat_11\n",
      "combining_mat_27\n",
      "combining_mat_31\n",
      "combining_mat_35\n",
      "combining_mat_11\n",
      "combining_mat_15\n",
      "combining_mat_39\n",
      "combining_mat_43\n",
      "combining_mat_47\n",
      "writing_collated_dat_15\n",
      "combining_mat_51\n",
      "writing_collated_dat_7\n",
      "writing_collated_dat_19\n",
      "combining_mat_55\n",
      "writing_collated_dat_23\n",
      "combining_mat_59\n",
      "combining_mat_63\n",
      "writing_collated_dat_27\n",
      "writing_collated_dat_31\n"
     ]
    }
   ],
   "source": [
    "def collate_dat(i, fact):\n",
    "    global n\n",
    "    global t\n",
    "    \n",
    "    for k in range(t):    \n",
    "        local_names = []\n",
    "        for f in range(fact):\n",
    "            print('combining_names_'+str(i*fact*t+f*t+k))\n",
    "            sys.stdout.flush()\n",
    "            with open('pickle_files/names_'+str(i*fact*t+f*t+k)+'.pickle', 'rb') as fil:\n",
    "                local_names += [pkl.load(fil)]\n",
    "\n",
    "        local_names = np.fromiter(it.chain.from_iterable(local_names), dtype=np.int64)\n",
    "                \n",
    "        print('writing_collated_names_'+str(i*t+k))\n",
    "        np.savez_compressed('collate_names_'+str(i*t+k)+'.npz', local_names)\n",
    "\n",
    "        del local_names\n",
    "\n",
    "        gc.collect()\n",
    "\n",
    "        local_dat = []\n",
    "        for f in range(fact):\n",
    "            print('combining_mat_'+str(i*fact*t+f*t+k))\n",
    "            sys.stdout.flush()\n",
    "            with open('pickle_files/mat_'+str(i*fact*t+f*t+k)+'.pickle', 'rb') as fil:\n",
    "                local_dat += [pkl.load(fil)]\n",
    "                \n",
    "        local_dat = np.fromiter(it.chain.from_iterable(local_dat), dtype=np.float64)\n",
    "\n",
    "        print('writing_collated_dat_'+str(i*t+k))\n",
    "        np.savez_compressed('collate_dat_'+str(i*t+k)+'.npz', local_dat)\n",
    "\n",
    "proc_list = []\n",
    "\n",
    "t = 4\n",
    "    \n",
    "for i in range(8):\n",
    "    p = mp.Process(target = collate_dat, args=(i,2))\n",
    "    p.start()\n",
    "    proc_list.append(p)\n",
    "    \n",
    "for i in range(8):\n",
    "    proc_list[i].join(timeout=21600)"
   ]
  },
  {
   "cell_type": "code",
   "execution_count": 17,
   "metadata": {
    "collapsed": true
   },
   "outputs": [
    {
     "name": "stdout",
     "output_type": "stream",
     "text": [
      "combining_names_4\n",
      "combining_names_0\n",
      "combining_names_8\n",
      "combining_names_12\n",
      "combining_names_16\n",
      "combining_names_20\n",
      "combining_names_24\n",
      "combining_names_28\n",
      "combining_names_10\n",
      "combining_names_2\n",
      "combining_names_14\n",
      "combining_names_18\n",
      "combining_names_6\n",
      "combining_names_30\n",
      "combining_names_26\n",
      "combining_names_22\n",
      "writing_collated_names_0\n",
      "writing_collated_names_8\n",
      "writing_collated_names_4\n",
      "writing_collated_names_6\n",
      "writing_collated_names_2\n",
      "writing_collated_names_12\n",
      "writing_collated_names_10\n",
      "writing_collated_names_14\n",
      "combining_mat_20\n",
      "combining_mat_28\n",
      "combining_mat_8\n",
      "combining_mat_12\n",
      "combining_mat_0\n",
      "combining_mat_24\n",
      "combining_mat_4\n",
      "combining_mat_16\n",
      "combining_mat_22\n",
      "combining_mat_30\n",
      "combining_mat_14\n",
      "combining_mat_10\n",
      "combining_mat_2\n",
      "combining_mat_6\n",
      "combining_mat_18\n",
      "combining_mat_26\n",
      "writing_collated_dat_10\n",
      "writing_collated_dat_14\n",
      "writing_collated_dat_6\n",
      "writing_collated_dat_4\n",
      "writing_collated_dat_0\n",
      "writing_collated_dat_2\n",
      "writing_collated_dat_8\n",
      "writing_collated_dat_12\n",
      "combining_names_21\n",
      "combining_names_13\n",
      "combining_names_29\n",
      "combining_names_9\n",
      "combining_names_1\n",
      "combining_names_5\n",
      "combining_names_17\n",
      "combining_names_25\n",
      "combining_names_23\n",
      "combining_names_15\n",
      "combining_names_11\n",
      "combining_names_31\n",
      "combining_names_3\n",
      "combining_names_19\n",
      "combining_names_7\n",
      "combining_names_27\n",
      "writing_collated_names_7\n",
      "writing_collated_names_11\n",
      "writing_collated_names_5\n",
      "writing_collated_names_15\n",
      "writing_collated_names_1\n",
      "writing_collated_names_9\n",
      "writing_collated_names_3\n",
      "writing_collated_names_13\n",
      "combining_mat_13\n",
      "combining_mat_29\n",
      "combining_mat_21\n",
      "combining_mat_1\n",
      "combining_mat_9\n",
      "combining_mat_17\n",
      "combining_mat_25\n",
      "combining_mat_5\n",
      "combining_mat_15\n",
      "combining_mat_31\n",
      "combining_mat_23\n",
      "combining_mat_3\n",
      "combining_mat_11\n",
      "combining_mat_19\n",
      "combining_mat_27\n",
      "combining_mat_7\n",
      "writing_collated_dat_7\n",
      "writing_collated_dat_15\n",
      "writing_collated_dat_11\n",
      "writing_collated_dat_1\n",
      "writing_collated_dat_5\n",
      "writing_collated_dat_9\n",
      "writing_collated_dat_13\n",
      "writing_collated_dat_3\n"
     ]
    }
   ],
   "source": [
    "def collate_dat(i, fact):\n",
    "    global n\n",
    "    global t\n",
    "    \n",
    "    for k in range(t):    \n",
    "        local_names = []\n",
    "        for f in range(fact):\n",
    "            print('combining_names_'+str(i*fact*t+f*t+k))\n",
    "            sys.stdout.flush()\n",
    "            local_names += [np.load('collate_names_'+str(i*fact*t+f*t+k)+'.npz')['arr_0']]\n",
    "\n",
    "        local_names = np.hstack(local_names)\n",
    "                \n",
    "        print('writing_collated_names_'+str(i*t+k))\n",
    "        np.savez_compressed('collate_names_16_'+str(i*t+k)+'.npz', local_names)\n",
    "\n",
    "        del local_names\n",
    "\n",
    "        gc.collect()\n",
    "\n",
    "        local_dat = []\n",
    "        for f in range(fact):\n",
    "            print('combining_mat_'+str(i*fact*t+f*t+k))\n",
    "            sys.stdout.flush()\n",
    "            local_dat += [np.load('collate_dat_'+str(i*fact*t+f*t+k)+'.npz')['arr_0']]\n",
    "                \n",
    "        local_dat = np.hstack(local_dat)\n",
    "\n",
    "        print('writing_collated_dat_'+str(i*t+k))\n",
    "        np.savez_compressed('collate_dat_16_'+str(i*t+k)+'.npz', local_dat)\n",
    "\n",
    "proc_list = []\n",
    "\n",
    "t = 2\n",
    "    \n",
    "for i in range(8):\n",
    "    p = mp.Process(target = collate_dat, args=(i,2))\n",
    "    p.start()\n",
    "    proc_list.append(p)\n",
    "    \n",
    "for i in range(8):\n",
    "    proc_list[i].join(timeout=21600)"
   ]
  },
  {
   "cell_type": "code",
   "execution_count": 18,
   "metadata": {
    "collapsed": true
   },
   "outputs": [
    {
     "name": "stdout",
     "output_type": "stream",
     "text": [
      "combining_names_0\n",
      "combining_names_2\n",
      "combining_names_4\n",
      "combining_names_6\n",
      "combining_names_8\n",
      "combining_names_10\n",
      "combining_names_12\n",
      "combining_names_14\n",
      "combining_names_9\n",
      "combining_names_1\n",
      "combining_names_3\n",
      "combining_names_11\n",
      "combining_names_13\n",
      "combining_names_5\n",
      "combining_names_15\n",
      "combining_names_7\n",
      "writing_collated_names_0\n",
      "writing_collated_names_4\n",
      "writing_collated_names_1\n",
      "writing_collated_names_2\n",
      "writing_collated_names_5\n",
      "writing_collated_names_7\n",
      "writing_collated_names_3\n",
      "writing_collated_names_6\n",
      "combining_mat_0\n",
      "combining_mat_14\n",
      "combining_mat_6\n",
      "combining_mat_4\n",
      "combining_mat_8\n",
      "combining_mat_10\n",
      "combining_mat_12\n",
      "combining_mat_2\n",
      "combining_mat_1\n",
      "combining_mat_15\n",
      "combining_mat_7\n",
      "combining_mat_5\n",
      "combining_mat_9\n",
      "combining_mat_11\n",
      "combining_mat_3\n",
      "combining_mat_13\n",
      "writing_collated_dat_0\n",
      "writing_collated_dat_7\n",
      "writing_collated_dat_3\n",
      "writing_collated_dat_4\n",
      "writing_collated_dat_2\n",
      "writing_collated_dat_5\n",
      "writing_collated_dat_6\n",
      "writing_collated_dat_1\n"
     ]
    }
   ],
   "source": [
    "def collate_dat(i, fact):\n",
    "    global n\n",
    "    global t\n",
    "    \n",
    "    for k in range(t):    \n",
    "        local_names = []\n",
    "        for f in range(fact):\n",
    "            print('combining_names_'+str(i*fact*t+f*t+k))\n",
    "            sys.stdout.flush()\n",
    "            local_names += [np.load('collate_names_16_'+str(i*fact*t+f*t+k)+'.npz')['arr_0']]\n",
    "\n",
    "        local_names = np.hstack(local_names)\n",
    "                \n",
    "        print('writing_collated_names_'+str(i*t+k))\n",
    "        np.savez_compressed('collate_names_8_'+str(i*t+k)+'.npz', local_names)\n",
    "\n",
    "        del local_names\n",
    "\n",
    "        gc.collect()\n",
    "\n",
    "        local_dat = []\n",
    "        for f in range(fact):\n",
    "            print('combining_mat_'+str(i*fact*t+f*t+k))\n",
    "            sys.stdout.flush()\n",
    "            local_dat += [np.load('collate_dat_16_'+str(i*fact*t+f*t+k)+'.npz')['arr_0']]\n",
    "                \n",
    "        local_dat = np.hstack(local_dat)\n",
    "\n",
    "        print('writing_collated_dat_'+str(i*t+k))\n",
    "        np.savez_compressed('collate_dat_8_'+str(i*t+k)+'.npz', local_dat)\n",
    "\n",
    "proc_list = []\n",
    "\n",
    "t = 1\n",
    "    \n",
    "for i in range(8):\n",
    "    p = mp.Process(target = collate_dat, args=(i,2))\n",
    "    p.start()\n",
    "    proc_list.append(p)\n",
    "    \n",
    "for i in range(8):\n",
    "    proc_list[i].join(timeout=21600)"
   ]
  },
  {
   "cell_type": "code",
   "execution_count": 19,
   "metadata": {
    "collapsed": true
   },
   "outputs": [
    {
     "name": "stdout",
     "output_type": "stream",
     "text": [
      "combining_names_0\n",
      "combining_names_4\n",
      "combining_names_5\n",
      "combining_names_1\n",
      "combining_names_6\n",
      "combining_names_2\n",
      "combining_names_7\n",
      "combining_names_3\n",
      "writing_collated_names_1\n",
      "writing_collated_names_0\n",
      "combining_mat_4\n",
      "combining_mat_0\n",
      "combining_mat_5\n",
      "combining_mat_1\n",
      "combining_mat_6\n",
      "combining_mat_2\n",
      "combining_mat_7\n",
      "combining_mat_3\n",
      "writing_collated_dat_1\n",
      "writing_collated_dat_0\n"
     ]
    }
   ],
   "source": [
    "def collate_dat(i, fact):\n",
    "    global n\n",
    "    global t\n",
    "    \n",
    "    for k in range(t):    \n",
    "        local_names = []\n",
    "        for f in range(fact):\n",
    "            print('combining_names_'+str(i*fact*t+f*t+k))\n",
    "            sys.stdout.flush()\n",
    "            local_names += [np.load('collate_names_8_'+str(i*fact*t+f*t+k)+'.npz')['arr_0']]\n",
    "\n",
    "        local_names = np.hstack(local_names)\n",
    "                \n",
    "        print('writing_collated_names_'+str(i*t+k))\n",
    "        np.savez_compressed('collate_names_2_'+str(i*t+k)+'.npz', local_names)\n",
    "\n",
    "        del local_names\n",
    "\n",
    "        gc.collect()\n",
    "\n",
    "        local_dat = []\n",
    "        for f in range(fact):\n",
    "            print('combining_mat_'+str(i*fact*t+f*t+k))\n",
    "            sys.stdout.flush()\n",
    "            local_dat += [np.load('collate_dat_8_'+str(i*fact*t+f*t+k)+'.npz')['arr_0']]\n",
    "                \n",
    "        local_dat = np.hstack(local_dat)\n",
    "\n",
    "        print('writing_collated_dat_'+str(i*t+k))\n",
    "        np.savez_compressed('collate_dat_2_'+str(i*t+k)+'.npz', local_dat)\n",
    "\n",
    "proc_list = []\n",
    "\n",
    "t = 1\n",
    "    \n",
    "for i in range(2):\n",
    "    p = mp.Process(target = collate_dat, args=(i,4))\n",
    "    p.start()\n",
    "    proc_list.append(p)\n",
    "    \n",
    "for i in range(2):\n",
    "    proc_list[i].join(timeout=21600)"
   ]
  },
  {
   "cell_type": "code",
   "execution_count": 20,
   "metadata": {},
   "outputs": [],
   "source": [
    "dat = np.zeros((n*n,))\n",
    "\n",
    "local_names = np.load('collate_names_2_0.npz')['arr_0']\n",
    "local_dat = np.load('collate_dat_2_0.npz')['arr_0']\n",
    "\n",
    "np.put(dat, local_names, local_dat)\n",
    "\n",
    "local_names = np.load('collate_names_2_1.npz')['arr_0']\n",
    "local_dat = np.load('collate_dat_2_1.npz')['arr_0']\n",
    "\n",
    "np.put(dat, local_names, local_dat)"
   ]
  },
  {
   "cell_type": "code",
   "execution_count": 21,
   "metadata": {},
   "outputs": [],
   "source": [
    "np.savez('complete_distances.npz', dat)"
   ]
  },
  {
   "cell_type": "code",
   "execution_count": 27,
   "metadata": {},
   "outputs": [],
   "source": [
    "dat = dat.reshape((n,n))\n",
    "np.savez('complete_distances.npz', dat)"
   ]
  },
  {
   "cell_type": "code",
   "execution_count": 92,
   "metadata": {},
   "outputs": [],
   "source": [
    "#dat = np.load('complete_distances.npz')['arr_0']"
   ]
  },
  {
   "cell_type": "code",
   "execution_count": 41,
   "metadata": {},
   "outputs": [],
   "source": [
    "import matplotlib.pyplot as plt\n",
    "import numpy as np\n",
    "%matplotlib inline\n",
    "\n",
    "def histogram(data,myBins,w,h,figTitle='none',save='do not save'):\n",
    "    print(\"Mean: %5.3f | Median: %5.3f | Min: %5.3f | Max: %5.3f\" % (np.mean(data),np.median(data),min(data),max(data)))\n",
    "    hist, bins = np.histogram(data,bins=myBins)\n",
    "    width = 0.7 * (bins[1] - bins[0])\n",
    "    center = (bins[:-1] + bins[1:]) / 2\n",
    "    plt.figure(num=None, figsize=(w,h), dpi=80, facecolor='w', edgecolor='k')\n",
    "    plt.bar(center, hist, align='center', width=width)\n",
    "    if save=='save':\n",
    "        plt.savefig('hist.png')\n",
    "    plt.show()"
   ]
  },
  {
   "cell_type": "code",
   "execution_count": 43,
   "metadata": {},
   "outputs": [
    {
     "name": "stdout",
     "output_type": "stream",
     "text": [
      "Mean: 69.575 | Median: 70.000 | Min: 19.000 | Max: 93.000\n"
     ]
    },
    {
     "data": {
      "image/png": "[encoded data removed]",
      "text/plain": [
       "<Figure size 800x560 with 1 Axes>"
      ]
     },
     "metadata": {},
     "output_type": "display_data"
    }
   ],
   "source": [
    "histogram(np.random.choice(dat[np.triu_indices(n=n, k=1)], 50000),100,10,7,save='save')"
   ]
  },
  {
   "cell_type": "code",
   "execution_count": 113,
   "metadata": {},
   "outputs": [
    {
     "name": "stdout",
     "output_type": "stream",
     "text": [
      "34.8\t69.6\t69.6\t69.6\t69.6\t69.6\t69.6\t69.6\t69.6\t69.6\t69.6\t69.6\t69.6\t69.5\t69.6\n",
      "0.0\t34.8\t69.6\t69.6\t69.6\t69.6\t69.6\t69.6\t69.6\t69.6\t69.6\t69.6\t69.6\t69.5\t69.6\n",
      "0.0\t0.0\t34.8\t69.6\t69.6\t69.6\t69.6\t69.6\t69.5\t69.6\t69.6\t69.6\t69.6\t69.5\t69.6\n",
      "0.0\t0.0\t0.0\t34.8\t69.5\t69.5\t69.5\t69.5\t69.5\t69.6\t69.5\t69.5\t69.6\t69.5\t69.6\n",
      "0.0\t0.0\t0.0\t0.0\t34.8\t69.6\t69.5\t69.6\t69.5\t69.6\t69.5\t69.6\t69.6\t69.5\t69.6\n",
      "0.0\t0.0\t0.0\t0.0\t0.0\t34.8\t69.6\t69.6\t69.5\t69.6\t69.6\t69.6\t69.6\t69.5\t69.6\n",
      "0.0\t0.0\t0.0\t0.0\t0.0\t0.0\t34.8\t69.5\t69.5\t69.6\t69.5\t69.6\t69.6\t69.5\t69.6\n",
      "0.0\t0.0\t0.0\t0.0\t0.0\t0.0\t0.0\t34.8\t69.5\t69.6\t69.5\t69.6\t69.6\t69.5\t69.6\n",
      "0.0\t0.0\t0.0\t0.0\t0.0\t0.0\t0.0\t0.0\t34.7\t69.6\t69.5\t69.5\t69.6\t69.5\t69.6\n",
      "0.0\t0.0\t0.0\t0.0\t0.0\t0.0\t0.0\t0.0\t0.0\t34.8\t69.6\t69.6\t69.6\t69.5\t69.6\n",
      "0.0\t0.0\t0.0\t0.0\t0.0\t0.0\t0.0\t0.0\t0.0\t0.0\t34.8\t69.6\t69.6\t69.5\t69.6\n",
      "0.0\t0.0\t0.0\t0.0\t0.0\t0.0\t0.0\t0.0\t0.0\t0.0\t0.0\t34.8\t69.6\t69.5\t69.6\n",
      "0.0\t0.0\t0.0\t0.0\t0.0\t0.0\t0.0\t0.0\t0.0\t0.0\t0.0\t0.0\t34.8\t69.5\t69.6\n",
      "0.0\t0.0\t0.0\t0.0\t0.0\t0.0\t0.0\t0.0\t0.0\t0.0\t0.0\t0.0\t0.0\t34.7\t69.5\n",
      "0.0\t0.0\t0.0\t0.0\t0.0\t0.0\t0.0\t0.0\t0.0\t0.0\t0.0\t0.0\t0.0\t0.0\t34.8\n"
     ]
    }
   ],
   "source": [
    "num_slices = 15\n",
    "for i in range(num_slices):\n",
    "    score_list = []\n",
    "    for j in range(num_slices):\n",
    "        score_list += [str(np.round(np.mean(dat[(n//num_slices)*i:n//num_slices*(i+1), (n//num_slices)*j:(n//num_slices)*(j+1)]),1))]\n",
    "        \n",
    "    print('\\t'.join(score_list))\n",
    "        "
   ]
  },
  {
   "cell_type": "code",
   "execution_count": 35,
   "metadata": {
    "scrolled": true
   },
   "outputs": [
    {
     "data": {
      "text/plain": [
       "<matplotlib.axes._subplots.AxesSubplot at 0x53f8aab38>"
      ]
     },
     "execution_count": 35,
     "metadata": {},
     "output_type": "execute_result"
    },
    {
     "data": {
      "image/png": "[encoded data removed]",
      "text/plain": [
       "<Figure size 864x720 with 2 Axes>"
      ]
     },
     "metadata": {},
     "output_type": "display_data"
    }
   ],
   "source": [
    "import matplotlib.pyplot as plt\n",
    "%matplotlib inline\n",
    "fig = plt.figure(figsize=(12,10))\n",
    "import seaborn as sns\n",
    "num_slices = 109\n",
    "out_list = []\n",
    "for i in range(num_slices):\n",
    "    score_list = []\n",
    "    for j in range(num_slices):\n",
    "        out_list += [np.round(np.mean(dat[(n//num_slices)*i:n//num_slices*(i+1), (n//num_slices)*j:(n//num_slices)*(j+1)]),0)]\n",
    "        \n",
    "sns.heatmap(np.array(out_list).reshape((num_slices,num_slices)))\n",
    "        "
   ]
  },
  {
   "cell_type": "code",
   "execution_count": 33,
   "metadata": {},
   "outputs": [],
   "source": [
    "dat = -(dat - np.max(dat))\n",
    "dat[np.tril_indices(n=n)] = 0.0"
   ]
  },
  {
   "cell_type": "code",
   "execution_count": 34,
   "metadata": {},
   "outputs": [],
   "source": [
    "np.savez_compressed('flipped_distances.npz', dat)"
   ]
  },
  {
   "cell_type": "code",
   "execution_count": 73,
   "metadata": {},
   "outputs": [
    {
     "data": {
      "text/plain": [
       "0.0001949207881295316"
      ]
     },
     "execution_count": 73,
     "metadata": {},
     "output_type": "execute_result"
    }
   ],
   "source": [
    "np.sum(dat>=60.0)/(n*(n-1)/2)"
   ]
  },
  {
   "cell_type": "code",
   "execution_count": 24,
   "metadata": {},
   "outputs": [],
   "source": [
    "max_x, max_y = np.where(dat==94.0)"
   ]
  },
  {
   "cell_type": "code",
   "execution_count": 37,
   "metadata": {},
   "outputs": [
    {
     "data": {
      "text/plain": [
       "6445"
      ]
     },
     "execution_count": 37,
     "metadata": {},
     "output_type": "execute_result"
    }
   ],
   "source": [
    "np.sum(dat==94.0)"
   ]
  },
  {
   "cell_type": "code",
   "execution_count": 44,
   "metadata": {},
   "outputs": [],
   "source": [
    "def find_below(dat, n, thresh):\n",
    "    mask = dat <= thresh\n",
    "    mask[np.tril_indices(n=n)] = False\n",
    "    return np.where(mask)"
   ]
  },
  {
   "cell_type": "code",
   "execution_count": 40,
   "metadata": {},
   "outputs": [
    {
     "data": {
      "text/plain": [
       "(array([5826]), array([12113]))"
      ]
     },
     "execution_count": 40,
     "metadata": {},
     "output_type": "execute_result"
    }
   ],
   "source": [
    "zeros = find_below(dat, n, 0.0)\n",
    "zeros"
   ]
  },
  {
   "cell_type": "code",
   "execution_count": 45,
   "metadata": {},
   "outputs": [
    {
     "data": {
      "text/plain": [
       "(array([    4,    15,    18, ..., 67922, 67922, 67958]),\n",
       " array([39895, 52702, 43525, ..., 67962, 68096, 68096]))"
      ]
     },
     "execution_count": 45,
     "metadata": {},
     "output_type": "execute_result"
    }
   ],
   "source": [
    "thirties = find_below(dat, n, 30.0)\n",
    "thirties"
   ]
  },
  {
   "cell_type": "code",
   "execution_count": 104,
   "metadata": {},
   "outputs": [],
   "source": [
    "from numba import jit\n",
    "from numba import njit\n",
    "from numba import vectorize\n",
    "\n",
    "@jit(parallel=True)\n",
    "def jit_mask(dat, thresh):\n",
    "    return dat <= thresh\n",
    "\n",
    "@jit(parallel=True)\n",
    "def jit_tril_zero(dat, n):\n",
    "    for i in range(n):\n",
    "        for j in range(i):\n",
    "            dat[i,j] = False\n",
    "    return dat\n",
    "                \n",
    "@jit(parallel=True)\n",
    "def jit_where(dat):\n",
    "    return np.where(dat)\n",
    "    \n",
    "def find_pairs_below(thresh):\n",
    "    global n\n",
    "    global dat\n",
    "    global motifs_reference\n",
    "    \n",
    "    mots = np.array(motifs_reference, dtype=np.str_)\n",
    "    get_helper = ft.partial(get_names, motifs_reference=motifs_reference)\n",
    "    \n",
    "    x_locs, y_locs = jit_where(jit_tril_zero(jit_mask(dat, thresh),n))\n",
    "    \n",
    "    return list(zip(*(mots[x_locs], mots[y_locs])))"
   ]
  },
  {
   "cell_type": "code",
   "execution_count": 105,
   "metadata": {},
   "outputs": [
    {
     "name": "stdout",
     "output_type": "stream",
     "text": [
      "5.22 s ± 61.9 ms per loop (mean ± std. dev. of 7 runs, 1 loop each)\n"
     ]
    }
   ],
   "source": [
    "%%timeit\n",
    "\n",
    "thirties = find_pairs_below(30.0)"
   ]
  },
  {
   "cell_type": "code",
   "execution_count": 91,
   "metadata": {
    "scrolled": true
   },
   "outputs": [
    {
     "data": {
      "text/plain": [
       "371312"
      ]
     },
     "execution_count": 91,
     "metadata": {},
     "output_type": "execute_result"
    }
   ],
   "source": [
    "len(thirties)"
   ]
  },
  {
   "cell_type": "code",
   "execution_count": 94,
   "metadata": {},
   "outputs": [],
   "source": [
    "import pandas as pd\n",
    "pd.DataFrame(thirties).to_csv('below_thirty_pairs.csv', header=False, index=False)"
   ]
  },
  {
   "cell_type": "code",
   "execution_count": null,
   "metadata": {},
   "outputs": [],
   "source": [
    "np.unravel_index(dat[np.triu_indices(n=n, k=1)] == 0.0, dat.shape)"
   ]
  },
  {
   "cell_type": "code",
   "execution_count": 15,
   "metadata": {},
   "outputs": [
    {
     "data": {
      "text/plain": [
       "array(4670765647)"
      ]
     },
     "execution_count": 15,
     "metadata": {},
     "output_type": "execute_result"
    }
   ],
   "source": [
    "np.array(4670765647, dtype=np.int64)"
   ]
  },
  {
   "cell_type": "code",
   "execution_count": 95,
   "metadata": {},
   "outputs": [
    {
     "data": {
      "text/plain": [
       "455159.45246969996"
      ]
     },
     "execution_count": 95,
     "metadata": {},
     "output_type": "execute_result"
    }
   ],
   "source": [
    "0.0001949*(n-1)*n/2\n"
   ]
  },
  {
   "cell_type": "code",
   "execution_count": 96,
   "metadata": {},
   "outputs": [],
   "source": [
    "num_combos = n*(n-1)/2"
   ]
  },
  {
   "cell_type": "code",
   "execution_count": 97,
   "metadata": {
    "scrolled": true
   },
   "outputs": [
    {
     "data": {
      "text/plain": [
       "0.010758388032435687"
      ]
     },
     "execution_count": 97,
     "metadata": {},
     "output_type": "execute_result"
    }
   ],
   "source": [
    "(np.sum(dat<=10)-num_combos)/num_combos"
   ]
  }
 ],
 "metadata": {
  "kernelspec": {
   "display_name": "Python [default]",
   "language": "python",
   "name": "python3"
  },
  "language_info": {
   "codemirror_mode": {
    "name": "ipython",
    "version": 3
   },
   "file_extension": ".py",
   "mimetype": "text/x-python",
   "name": "python",
   "nbconvert_exporter": "python",
   "pygments_lexer": "ipython3",
   "version": "3.6.5"
  }
 },
 "nbformat": 4,
 "nbformat_minor": 2
}
